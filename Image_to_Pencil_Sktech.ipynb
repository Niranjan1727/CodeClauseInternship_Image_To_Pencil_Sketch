{
  "nbformat": 4,
  "nbformat_minor": 0,
  "metadata": {
    "colab": {
      "provenance": []
    },
    "kernelspec": {
      "name": "python3",
      "display_name": "Python 3"
    },
    "language_info": {
      "name": "python"
    }
  },
  "cells": [
    {
      "cell_type": "code",
      "execution_count": 1,
      "metadata": {
        "id": "P02CgXIKDkNI",
        "colab": {
          "base_uri": "https://localhost:8080/"
        },
        "outputId": "e789be72-2a32-4e99-a1e0-60e21aa311c6"
      },
      "outputs": [
        {
          "output_type": "stream",
          "name": "stdout",
          "text": [
            "Pencil sketch saved as: pencil_sketch.jpg\n"
          ]
        }
      ],
      "source": [
        "import cv2\n",
        "\n",
        "def convert_to_pencil_sketch(image_path):\n",
        "    # Load the image\n",
        "    img = cv2.imread(image_path)\n",
        "\n",
        "    # Convert the image to grayscale\n",
        "    gray_img = cv2.cvtColor(img, cv2.COLOR_BGR2GRAY)\n",
        "\n",
        "    # Invert the grayscale image\n",
        "    inverted_gray_img = cv2.bitwise_not(gray_img)\n",
        "\n",
        "    # Apply Gaussian blur to the inverted grayscale image\n",
        "    blurred_img = cv2.GaussianBlur(inverted_gray_img, (111, 111), 0)\n",
        "\n",
        "    # Invert the blurred image\n",
        "    inverted_blurred_img = cv2.bitwise_not(blurred_img)\n",
        "\n",
        "    # Create the pencil sketch image by dividing the grayscale image by the inverted blurred image\n",
        "    pencil_sketch_img = cv2.divide(gray_img, inverted_blurred_img, scale=256.0)\n",
        "\n",
        "    return pencil_sketch_img\n",
        "\n",
        "# Path to the input image\n",
        "input_image_path = '/content/fishimage.jpeg'\n",
        "\n",
        "# Convert the image to pencil sketch\n",
        "pencil_sketch = convert_to_pencil_sketch(input_image_path)\n",
        "\n",
        "# Save the pencil sketch image\n",
        "output_image_path = 'pencil_sketch.jpg'\n",
        "cv2.imwrite(output_image_path, pencil_sketch)\n",
        "\n",
        "print(\"Pencil sketch saved as:\", output_image_path)\n"
      ]
    }
  ]
}